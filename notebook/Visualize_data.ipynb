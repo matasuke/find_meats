{
 "cells": [
  {
   "cell_type": "code",
   "execution_count": 1,
   "metadata": {},
   "outputs": [],
   "source": [
    "import sys\n",
    "from pathlib import Path\n",
    "import pandas as pd\n",
    "\n",
    "sys.path.append('..')\n",
    "from find_meats.data_visualizer.voc_statistics_getter import VocStatisticsGetter"
   ]
  },
  {
   "cell_type": "code",
   "execution_count": 2,
   "metadata": {},
   "outputs": [
    {
     "name": "stderr",
     "output_type": "stream",
     "text": [
      "997it [00:04, 218.40it/s]\n"
     ]
    }
   ],
   "source": [
    "# set path to MEAT_MASTER_2018\n",
    "DATASET_PATH = '../data/MEAT_MASTER_2018/train'\n",
    "dataset_path = Path(DATASET_PATH)\n",
    "statistics = VocStatisticsGetter.create(dataset_path)"
   ]
  },
  {
   "cell_type": "code",
   "execution_count": 3,
   "metadata": {},
   "outputs": [],
   "source": [
    "# find images that doesn't contain any objects.\n",
    "\n",
    "for filename in statistics.filenames:\n",
    "    if filename not in statistics._filename2objects:\n",
    "        print(statistics.filename2image_path(filename))"
   ]
  },
  {
   "cell_type": "code",
   "execution_count": 8,
   "metadata": {},
   "outputs": [],
   "source": [
    "labels = [\n",
    "    'raw_beaf',\n",
    "    'half_cooked_beaf',\n",
    "    'cooked_beaf',\n",
    "    'over_cooked_beaf',\n",
    "    'raw_pork',\n",
    "    'half_cooked_pork',\n",
    "    'cooked_pork',\n",
    "    'over_cooked_pork',\n",
    "    'raw_chicken',\n",
    "    'half_cooked_chicken',\n",
    "    'cooked_chicken',\n",
    "    'over_cooked_chicken',\n",
    "]"
   ]
  },
  {
   "cell_type": "code",
   "execution_count": 9,
   "metadata": {},
   "outputs": [
    {
     "data": {
      "text/html": [
       "<div>\n",
       "<style scoped>\n",
       "    .dataframe tbody tr th:only-of-type {\n",
       "        vertical-align: middle;\n",
       "    }\n",
       "\n",
       "    .dataframe tbody tr th {\n",
       "        vertical-align: top;\n",
       "    }\n",
       "\n",
       "    .dataframe thead th {\n",
       "        text-align: right;\n",
       "    }\n",
       "</style>\n",
       "<table border=\"1\" class=\"dataframe\">\n",
       "  <thead>\n",
       "    <tr style=\"text-align: right;\">\n",
       "      <th></th>\n",
       "      <th>Images</th>\n",
       "      <th>Objects</th>\n",
       "    </tr>\n",
       "  </thead>\n",
       "  <tbody>\n",
       "    <tr>\n",
       "      <th>raw_beaf</th>\n",
       "      <td>203</td>\n",
       "      <td>403</td>\n",
       "    </tr>\n",
       "    <tr>\n",
       "      <th>half_cooked_beaf</th>\n",
       "      <td>237</td>\n",
       "      <td>406</td>\n",
       "    </tr>\n",
       "    <tr>\n",
       "      <th>cooked_beaf</th>\n",
       "      <td>206</td>\n",
       "      <td>296</td>\n",
       "    </tr>\n",
       "    <tr>\n",
       "      <th>over_cooked_beaf</th>\n",
       "      <td>108</td>\n",
       "      <td>138</td>\n",
       "    </tr>\n",
       "    <tr>\n",
       "      <th>raw_pork</th>\n",
       "      <td>130</td>\n",
       "      <td>214</td>\n",
       "    </tr>\n",
       "    <tr>\n",
       "      <th>half_cooked_pork</th>\n",
       "      <td>159</td>\n",
       "      <td>196</td>\n",
       "    </tr>\n",
       "    <tr>\n",
       "      <th>cooked_pork</th>\n",
       "      <td>193</td>\n",
       "      <td>260</td>\n",
       "    </tr>\n",
       "    <tr>\n",
       "      <th>over_cooked_pork</th>\n",
       "      <td>57</td>\n",
       "      <td>116</td>\n",
       "    </tr>\n",
       "    <tr>\n",
       "      <th>raw_chicken</th>\n",
       "      <td>115</td>\n",
       "      <td>273</td>\n",
       "    </tr>\n",
       "    <tr>\n",
       "      <th>half_cooked_chicken</th>\n",
       "      <td>178</td>\n",
       "      <td>305</td>\n",
       "    </tr>\n",
       "    <tr>\n",
       "      <th>cooked_chicken</th>\n",
       "      <td>214</td>\n",
       "      <td>320</td>\n",
       "    </tr>\n",
       "    <tr>\n",
       "      <th>over_cooked_chicken</th>\n",
       "      <td>139</td>\n",
       "      <td>164</td>\n",
       "    </tr>\n",
       "    <tr>\n",
       "      <th>total</th>\n",
       "      <td>997</td>\n",
       "      <td>3091</td>\n",
       "    </tr>\n",
       "  </tbody>\n",
       "</table>\n",
       "</div>"
      ],
      "text/plain": [
       "                     Images  Objects\n",
       "raw_beaf                203      403\n",
       "half_cooked_beaf        237      406\n",
       "cooked_beaf             206      296\n",
       "over_cooked_beaf        108      138\n",
       "raw_pork                130      214\n",
       "half_cooked_pork        159      196\n",
       "cooked_pork             193      260\n",
       "over_cooked_pork         57      116\n",
       "raw_chicken             115      273\n",
       "half_cooked_chicken     178      305\n",
       "cooked_chicken          214      320\n",
       "over_cooked_chicken     139      164\n",
       "total                   997     3091"
      ]
     },
     "execution_count": 9,
     "metadata": {},
     "output_type": "execute_result"
    }
   ],
   "source": [
    "all_labels = []\n",
    "img_num = []\n",
    "obj_num = []\n",
    "\n",
    "for label in labels:\n",
    "    all_labels.append(label)\n",
    "    img_num.append(statistics.label2images_num(label))\n",
    "    obj_num.append(statistics.label2objects_num(label))\n",
    "\n",
    "all_labels.append('total')\n",
    "img_num.append(statistics.images_num)\n",
    "obj_num.append(statistics.objects_num)\n",
    "    \n",
    "    \n",
    "pd.DataFrame(\n",
    "    {\n",
    "        'Images': img_num,\n",
    "        'Objects': obj_num,\n",
    "    },\n",
    "    index=all_labels,\n",
    ")"
   ]
  }
 ],
 "metadata": {
  "kernelspec": {
   "display_name": "Python 3",
   "language": "python",
   "name": "python3"
  },
  "language_info": {
   "codemirror_mode": {
    "name": "ipython",
    "version": 3
   },
   "file_extension": ".py",
   "mimetype": "text/x-python",
   "name": "python",
   "nbconvert_exporter": "python",
   "pygments_lexer": "ipython3",
   "version": "3.6.5"
  }
 },
 "nbformat": 4,
 "nbformat_minor": 2
}
