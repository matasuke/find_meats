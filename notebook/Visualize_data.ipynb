{
 "cells": [
  {
   "cell_type": "code",
   "execution_count": 8,
   "metadata": {},
   "outputs": [],
   "source": [
    "import sys\n",
    "from pathlib import Path\n",
    "import pandas as pd\n",
    "\n",
    "sys.path.append('..')\n",
    "from find_meats.data_visualizer.voc_statistics_getter import VocStatisticsGetter"
   ]
  },
  {
   "cell_type": "code",
   "execution_count": 19,
   "metadata": {},
   "outputs": [
    {
     "name": "stderr",
     "output_type": "stream",
     "text": [
      "873it [00:02, 412.96it/s]\n"
     ]
    }
   ],
   "source": [
    "dataset_path = Path('../MEAT_MASTER_2018_non_indexing/train')\n",
    "statistics = VocStatisticsGetter.create(dataset_path)"
   ]
  },
  {
   "cell_type": "code",
   "execution_count": 20,
   "metadata": {},
   "outputs": [
    {
     "name": "stdout",
     "output_type": "stream",
     "text": [
      "../MEAT_MASTER_2018_non_indexing/train/JPEGImages/P1050162.jpg\n",
      "../MEAT_MASTER_2018_non_indexing/train/JPEGImages/P1050477.jpg\n"
     ]
    }
   ],
   "source": [
    "# find images that doesn't contain any objects.\n",
    "\n",
    "for filename in statistics.filenames:\n",
    "    if filename not in statistics._filename2objects:\n",
    "        print(statistics.filename2image_path(filename))"
   ]
  },
  {
   "cell_type": "code",
   "execution_count": 21,
   "metadata": {},
   "outputs": [],
   "source": [
    "labels = [\n",
    "    'raw_beaf',\n",
    "    'half_cooked_beaf',\n",
    "    'cooked_beaf',\n",
    "    'over_cooked_beaf',\n",
    "    'raw_pork',\n",
    "    'half_cooked_pork',\n",
    "    'cooked_pork',\n",
    "    'over_cooked_pork',\n",
    "    'raw_chicken',\n",
    "    'half_cooked_chicken',\n",
    "    'cooked_chicken',\n",
    "    'over_cooked_chicken',\n",
    "]"
   ]
  },
  {
   "cell_type": "code",
   "execution_count": 22,
   "metadata": {},
   "outputs": [
    {
     "data": {
      "text/html": [
       "<div>\n",
       "<style scoped>\n",
       "    .dataframe tbody tr th:only-of-type {\n",
       "        vertical-align: middle;\n",
       "    }\n",
       "\n",
       "    .dataframe tbody tr th {\n",
       "        vertical-align: top;\n",
       "    }\n",
       "\n",
       "    .dataframe thead th {\n",
       "        text-align: right;\n",
       "    }\n",
       "</style>\n",
       "<table border=\"1\" class=\"dataframe\">\n",
       "  <thead>\n",
       "    <tr style=\"text-align: right;\">\n",
       "      <th></th>\n",
       "      <th>Images</th>\n",
       "      <th>Objects</th>\n",
       "    </tr>\n",
       "  </thead>\n",
       "  <tbody>\n",
       "    <tr>\n",
       "      <th>raw_beaf</th>\n",
       "      <td>196</td>\n",
       "      <td>385</td>\n",
       "    </tr>\n",
       "    <tr>\n",
       "      <th>half_cooked_beaf</th>\n",
       "      <td>234</td>\n",
       "      <td>399</td>\n",
       "    </tr>\n",
       "    <tr>\n",
       "      <th>cooked_beaf</th>\n",
       "      <td>202</td>\n",
       "      <td>292</td>\n",
       "    </tr>\n",
       "    <tr>\n",
       "      <th>over_cooked_beaf</th>\n",
       "      <td>94</td>\n",
       "      <td>107</td>\n",
       "    </tr>\n",
       "    <tr>\n",
       "      <th>raw_pork</th>\n",
       "      <td>114</td>\n",
       "      <td>150</td>\n",
       "    </tr>\n",
       "    <tr>\n",
       "      <th>half_cooked_pork</th>\n",
       "      <td>149</td>\n",
       "      <td>182</td>\n",
       "    </tr>\n",
       "    <tr>\n",
       "      <th>cooked_pork</th>\n",
       "      <td>169</td>\n",
       "      <td>218</td>\n",
       "    </tr>\n",
       "    <tr>\n",
       "      <th>over_cooked_pork</th>\n",
       "      <td>21</td>\n",
       "      <td>24</td>\n",
       "    </tr>\n",
       "    <tr>\n",
       "      <th>raw_chicken</th>\n",
       "      <td>70</td>\n",
       "      <td>149</td>\n",
       "    </tr>\n",
       "    <tr>\n",
       "      <th>half_cooked_chicken</th>\n",
       "      <td>171</td>\n",
       "      <td>294</td>\n",
       "    </tr>\n",
       "    <tr>\n",
       "      <th>cooked_chicken</th>\n",
       "      <td>201</td>\n",
       "      <td>291</td>\n",
       "    </tr>\n",
       "    <tr>\n",
       "      <th>over_cooked_chicken</th>\n",
       "      <td>121</td>\n",
       "      <td>138</td>\n",
       "    </tr>\n",
       "    <tr>\n",
       "      <th>total</th>\n",
       "      <td>873</td>\n",
       "      <td>2629</td>\n",
       "    </tr>\n",
       "  </tbody>\n",
       "</table>\n",
       "</div>"
      ],
      "text/plain": [
       "                     Images  Objects\n",
       "raw_beaf                196      385\n",
       "half_cooked_beaf        234      399\n",
       "cooked_beaf             202      292\n",
       "over_cooked_beaf         94      107\n",
       "raw_pork                114      150\n",
       "half_cooked_pork        149      182\n",
       "cooked_pork             169      218\n",
       "over_cooked_pork         21       24\n",
       "raw_chicken              70      149\n",
       "half_cooked_chicken     171      294\n",
       "cooked_chicken          201      291\n",
       "over_cooked_chicken     121      138\n",
       "total                   873     2629"
      ]
     },
     "execution_count": 22,
     "metadata": {},
     "output_type": "execute_result"
    }
   ],
   "source": [
    "all_labels = []\n",
    "img_num = []\n",
    "obj_num = []\n",
    "\n",
    "for label in labels:\n",
    "    all_labels.append(label)\n",
    "    img_num.append(statistics.label2images_num(label))\n",
    "    obj_num.append(statistics.label2objects_num(label))\n",
    "\n",
    "all_labels.append('total')\n",
    "img_num.append(statistics.images_num)\n",
    "obj_num.append(statistics.objects_num)\n",
    "    \n",
    "    \n",
    "pd.DataFrame(\n",
    "    {\n",
    "        'Images': img_num,\n",
    "        'Objects': obj_num,\n",
    "    },\n",
    "    index=all_labels,\n",
    ")"
   ]
  }
 ],
 "metadata": {
  "kernelspec": {
   "display_name": "Python 3",
   "language": "python",
   "name": "python3"
  }
 },
 "nbformat": 4,
 "nbformat_minor": 2
}
